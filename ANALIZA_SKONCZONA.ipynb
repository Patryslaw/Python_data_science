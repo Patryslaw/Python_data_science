{
 "cells": [
  {
   "cell_type": "markdown",
   "id": "c1014182",
   "metadata": {},
   "source": [
    "Przygotowanie bibliotek:"
   ]
  },
  {
   "cell_type": "code",
   "execution_count": 1,
   "id": "79381558",
   "metadata": {
    "jupyter": {
     "source_hidden": true
    }
   },
   "outputs": [],
   "source": [
    "import pandas as pd\n",
    "import numpy as np\n",
    "import matplotlib.pyplot as plt\n",
    "import os"
   ]
  },
  {
   "cell_type": "markdown",
   "id": "e5c777ac",
   "metadata": {},
   "source": [
    "Import danych:"
   ]
  },
  {
   "cell_type": "code",
   "execution_count": 2,
   "id": "f8a3bc45",
   "metadata": {
    "jupyter": {
     "source_hidden": true
    }
   },
   "outputs": [
    {
     "data": {
      "text/html": [
       "<div>\n",
       "<style scoped>\n",
       "    .dataframe tbody tr th:only-of-type {\n",
       "        vertical-align: middle;\n",
       "    }\n",
       "\n",
       "    .dataframe tbody tr th {\n",
       "        vertical-align: top;\n",
       "    }\n",
       "\n",
       "    .dataframe thead th {\n",
       "        text-align: right;\n",
       "    }\n",
       "</style>\n",
       "<table border=\"1\" class=\"dataframe\">\n",
       "  <thead>\n",
       "    <tr style=\"text-align: right;\">\n",
       "      <th></th>\n",
       "      <th>study_id</th>\n",
       "      <th>item_id</th>\n",
       "      <th>item_filename</th>\n",
       "      <th>item_cdn_url</th>\n",
       "      <th>tester_id</th>\n",
       "      <th>tester_external_id</th>\n",
       "      <th>tester_display_name</th>\n",
       "      <th>tester_tags</th>\n",
       "      <th>tester_quality_grade</th>\n",
       "      <th>tester_quality_grade_item</th>\n",
       "      <th>test_item_display_order</th>\n",
       "      <th>aoi_id</th>\n",
       "      <th>aoi_name</th>\n",
       "      <th>aoi_item_parts</th>\n",
       "      <th>aoi_size_percents</th>\n",
       "      <th>aoi_time_range_from_ms</th>\n",
       "      <th>aoi_time_range_to_ms</th>\n",
       "      <th>aoi_fixation_total_count</th>\n",
       "      <th>aoi_fixation_average_duration_ms</th>\n",
       "      <th>aoi_fixation_ttff_ms</th>\n",
       "      <th>aoi_fixation_average_total_time_spent_ms</th>\n",
       "      <th>aoi_fixation_first_fixation_average_duration_ms</th>\n",
       "      <th>notes</th>\n",
       "    </tr>\n",
       "  </thead>\n",
       "  <tbody>\n",
       "    <tr>\n",
       "      <th>0</th>\n",
       "      <td>d155b055-9d26-4c3e-899b-2943ddae0867</td>\n",
       "      <td>a6cc7e22-511c-41a6-b4cb-bcdb3aa1531d</td>\n",
       "      <td>Adrianna Czarnecka.png</td>\n",
       "      <td>https://d48dl6cezsco5.cloudfront.net/experimen...</td>\n",
       "      <td>4c453528-0f26-4681-97e3-2a6bb075da55</td>\n",
       "      <td>NaN</td>\n",
       "      <td>khj, Female, 24</td>\n",
       "      <td>NaN</td>\n",
       "      <td>5</td>\n",
       "      <td>5</td>\n",
       "      <td>3</td>\n",
       "      <td>b2bde8a6-2e06-46ae-921d-dca51e3d70aa</td>\n",
       "      <td>avatar</td>\n",
       "      <td>[{\"areaPoints\":{\"topLeft\":{\"xPx\":1,\"yPx\":0},\"b...</td>\n",
       "      <td>24.621212</td>\n",
       "      <td>500</td>\n",
       "      <td>40000</td>\n",
       "      <td>6</td>\n",
       "      <td>293.0</td>\n",
       "      <td>653.0</td>\n",
       "      <td>1755.0</td>\n",
       "      <td>127.0</td>\n",
       "      <td>RealEye v8.14.2; FixationFilterSettings [gazeP...</td>\n",
       "    </tr>\n",
       "    <tr>\n",
       "      <th>1</th>\n",
       "      <td>d155b055-9d26-4c3e-899b-2943ddae0867</td>\n",
       "      <td>a6cc7e22-511c-41a6-b4cb-bcdb3aa1531d</td>\n",
       "      <td>Adrianna Czarnecka.png</td>\n",
       "      <td>https://d48dl6cezsco5.cloudfront.net/experimen...</td>\n",
       "      <td>4c453528-0f26-4681-97e3-2a6bb075da55</td>\n",
       "      <td>NaN</td>\n",
       "      <td>khj, Female, 24</td>\n",
       "      <td>NaN</td>\n",
       "      <td>5</td>\n",
       "      <td>5</td>\n",
       "      <td>3</td>\n",
       "      <td>bdb53d04-7c22-43c6-9997-81979a1f2ebd</td>\n",
       "      <td>doswiadczenie_zawodowe</td>\n",
       "      <td>[{\"areaPoints\":{\"topLeft\":{\"xPx\":842,\"yPx\":0},...</td>\n",
       "      <td>24.587743</td>\n",
       "      <td>500</td>\n",
       "      <td>40000</td>\n",
       "      <td>28</td>\n",
       "      <td>514.0</td>\n",
       "      <td>14672.0</td>\n",
       "      <td>14401.0</td>\n",
       "      <td>167.0</td>\n",
       "      <td>NaN</td>\n",
       "    </tr>\n",
       "    <tr>\n",
       "      <th>2</th>\n",
       "      <td>d155b055-9d26-4c3e-899b-2943ddae0867</td>\n",
       "      <td>a6cc7e22-511c-41a6-b4cb-bcdb3aa1531d</td>\n",
       "      <td>Adrianna Czarnecka.png</td>\n",
       "      <td>https://d48dl6cezsco5.cloudfront.net/experimen...</td>\n",
       "      <td>4c453528-0f26-4681-97e3-2a6bb075da55</td>\n",
       "      <td>NaN</td>\n",
       "      <td>khj, Female, 24</td>\n",
       "      <td>NaN</td>\n",
       "      <td>5</td>\n",
       "      <td>5</td>\n",
       "      <td>3</td>\n",
       "      <td>f76ce316-a2ec-421b-a9a6-b59f9f93ec84</td>\n",
       "      <td>wyksztalcenie</td>\n",
       "      <td>[{\"areaPoints\":{\"topLeft\":{\"xPx\":840,\"yPx\":592...</td>\n",
       "      <td>24.982464</td>\n",
       "      <td>500</td>\n",
       "      <td>40000</td>\n",
       "      <td>23</td>\n",
       "      <td>421.0</td>\n",
       "      <td>8751.0</td>\n",
       "      <td>9682.0</td>\n",
       "      <td>372.0</td>\n",
       "      <td>NaN</td>\n",
       "    </tr>\n",
       "    <tr>\n",
       "      <th>3</th>\n",
       "      <td>d155b055-9d26-4c3e-899b-2943ddae0867</td>\n",
       "      <td>a6cc7e22-511c-41a6-b4cb-bcdb3aa1531d</td>\n",
       "      <td>Adrianna Czarnecka.png</td>\n",
       "      <td>https://d48dl6cezsco5.cloudfront.net/experimen...</td>\n",
       "      <td>4c453528-0f26-4681-97e3-2a6bb075da55</td>\n",
       "      <td>NaN</td>\n",
       "      <td>khj, Female, 24</td>\n",
       "      <td>NaN</td>\n",
       "      <td>5</td>\n",
       "      <td>5</td>\n",
       "      <td>3</td>\n",
       "      <td>fb34f810-dddd-465a-b6fc-f9fa43ed5f0c</td>\n",
       "      <td>zainteresowania</td>\n",
       "      <td>[{\"areaPoints\":{\"topLeft\":{\"xPx\":0,\"yPx\":586},...</td>\n",
       "      <td>25.294613</td>\n",
       "      <td>500</td>\n",
       "      <td>40000</td>\n",
       "      <td>16</td>\n",
       "      <td>459.0</td>\n",
       "      <td>2694.0</td>\n",
       "      <td>7350.0</td>\n",
       "      <td>600.0</td>\n",
       "      <td>NaN</td>\n",
       "    </tr>\n",
       "    <tr>\n",
       "      <th>4</th>\n",
       "      <td>d155b055-9d26-4c3e-899b-2943ddae0867</td>\n",
       "      <td>a6cc7e22-511c-41a6-b4cb-bcdb3aa1531d</td>\n",
       "      <td>Adrianna Czarnecka.png</td>\n",
       "      <td>https://d48dl6cezsco5.cloudfront.net/experimen...</td>\n",
       "      <td>be1eaac1-7d51-4601-b2d4-da48fb673ac9</td>\n",
       "      <td>NaN</td>\n",
       "      <td>Anonymous, Male, 22</td>\n",
       "      <td>NaN</td>\n",
       "      <td>4</td>\n",
       "      <td>3</td>\n",
       "      <td>4</td>\n",
       "      <td>b2bde8a6-2e06-46ae-921d-dca51e3d70aa</td>\n",
       "      <td>avatar</td>\n",
       "      <td>[{\"areaPoints\":{\"topLeft\":{\"xPx\":1,\"yPx\":0},\"b...</td>\n",
       "      <td>24.621212</td>\n",
       "      <td>500</td>\n",
       "      <td>40000</td>\n",
       "      <td>3</td>\n",
       "      <td>296.0</td>\n",
       "      <td>1427.0</td>\n",
       "      <td>889.0</td>\n",
       "      <td>265.0</td>\n",
       "      <td>NaN</td>\n",
       "    </tr>\n",
       "    <tr>\n",
       "      <th>...</th>\n",
       "      <td>...</td>\n",
       "      <td>...</td>\n",
       "      <td>...</td>\n",
       "      <td>...</td>\n",
       "      <td>...</td>\n",
       "      <td>...</td>\n",
       "      <td>...</td>\n",
       "      <td>...</td>\n",
       "      <td>...</td>\n",
       "      <td>...</td>\n",
       "      <td>...</td>\n",
       "      <td>...</td>\n",
       "      <td>...</td>\n",
       "      <td>...</td>\n",
       "      <td>...</td>\n",
       "      <td>...</td>\n",
       "      <td>...</td>\n",
       "      <td>...</td>\n",
       "      <td>...</td>\n",
       "      <td>...</td>\n",
       "      <td>...</td>\n",
       "      <td>...</td>\n",
       "      <td>...</td>\n",
       "    </tr>\n",
       "    <tr>\n",
       "      <th>635</th>\n",
       "      <td>d155b055-9d26-4c3e-899b-2943ddae0867</td>\n",
       "      <td>5d398901-dad8-4ca9-bf97-819e678e7099</td>\n",
       "      <td>Agata Krupa.png</td>\n",
       "      <td>https://d48dl6cezsco5.cloudfront.net/experimen...</td>\n",
       "      <td>1005b1e2-4248-490b-945a-d7073971f4cf</td>\n",
       "      <td>NaN</td>\n",
       "      <td>Marysia, Female, 21</td>\n",
       "      <td>NaN</td>\n",
       "      <td>5</td>\n",
       "      <td>5</td>\n",
       "      <td>6</td>\n",
       "      <td>c6b27662-5b6e-4793-adfb-068cb958fed3</td>\n",
       "      <td>zainteresowania</td>\n",
       "      <td>[{\"areaPoints\":{\"topLeft\":{\"xPx\":24,\"yPx\":16},...</td>\n",
       "      <td>64.676227</td>\n",
       "      <td>500</td>\n",
       "      <td>60000</td>\n",
       "      <td>64</td>\n",
       "      <td>250.0</td>\n",
       "      <td>530.0</td>\n",
       "      <td>16024.0</td>\n",
       "      <td>244.0</td>\n",
       "      <td>NaN</td>\n",
       "    </tr>\n",
       "    <tr>\n",
       "      <th>636</th>\n",
       "      <td>d155b055-9d26-4c3e-899b-2943ddae0867</td>\n",
       "      <td>5d398901-dad8-4ca9-bf97-819e678e7099</td>\n",
       "      <td>Agata Krupa.png</td>\n",
       "      <td>https://d48dl6cezsco5.cloudfront.net/experimen...</td>\n",
       "      <td>d3d013b6-91c2-4573-a96f-b8463b66a4a0</td>\n",
       "      <td>NaN</td>\n",
       "      <td>nnn, Female, 22</td>\n",
       "      <td>NaN</td>\n",
       "      <td>5</td>\n",
       "      <td>5</td>\n",
       "      <td>8</td>\n",
       "      <td>3460d11b-6fc0-4aba-9d52-0cfc437b8e3b</td>\n",
       "      <td>avatar</td>\n",
       "      <td>[{\"areaPoints\":{\"topLeft\":{\"xPx\":24,\"yPx\":16},...</td>\n",
       "      <td>45.204225</td>\n",
       "      <td>500</td>\n",
       "      <td>60000</td>\n",
       "      <td>18</td>\n",
       "      <td>687.0</td>\n",
       "      <td>617.0</td>\n",
       "      <td>12372.0</td>\n",
       "      <td>184.0</td>\n",
       "      <td>NaN</td>\n",
       "    </tr>\n",
       "    <tr>\n",
       "      <th>637</th>\n",
       "      <td>d155b055-9d26-4c3e-899b-2943ddae0867</td>\n",
       "      <td>5d398901-dad8-4ca9-bf97-819e678e7099</td>\n",
       "      <td>Agata Krupa.png</td>\n",
       "      <td>https://d48dl6cezsco5.cloudfront.net/experimen...</td>\n",
       "      <td>d3d013b6-91c2-4573-a96f-b8463b66a4a0</td>\n",
       "      <td>NaN</td>\n",
       "      <td>nnn, Female, 22</td>\n",
       "      <td>NaN</td>\n",
       "      <td>5</td>\n",
       "      <td>5</td>\n",
       "      <td>8</td>\n",
       "      <td>1431abf7-9b01-46ff-b2a6-3d08af3ab353</td>\n",
       "      <td>doswiadczenie_zawodowe</td>\n",
       "      <td>[{\"areaPoints\":{\"topLeft\":{\"xPx\":24,\"yPx\":16},...</td>\n",
       "      <td>45.204225</td>\n",
       "      <td>500</td>\n",
       "      <td>60000</td>\n",
       "      <td>18</td>\n",
       "      <td>687.0</td>\n",
       "      <td>617.0</td>\n",
       "      <td>12372.0</td>\n",
       "      <td>184.0</td>\n",
       "      <td>NaN</td>\n",
       "    </tr>\n",
       "    <tr>\n",
       "      <th>638</th>\n",
       "      <td>d155b055-9d26-4c3e-899b-2943ddae0867</td>\n",
       "      <td>5d398901-dad8-4ca9-bf97-819e678e7099</td>\n",
       "      <td>Agata Krupa.png</td>\n",
       "      <td>https://d48dl6cezsco5.cloudfront.net/experimen...</td>\n",
       "      <td>d3d013b6-91c2-4573-a96f-b8463b66a4a0</td>\n",
       "      <td>NaN</td>\n",
       "      <td>nnn, Female, 22</td>\n",
       "      <td>NaN</td>\n",
       "      <td>5</td>\n",
       "      <td>5</td>\n",
       "      <td>8</td>\n",
       "      <td>5658324c-d6d7-486a-8f9e-a01acf8d5cd2</td>\n",
       "      <td>wyksztalcenie</td>\n",
       "      <td>[{\"areaPoints\":{\"topLeft\":{\"xPx\":24,\"yPx\":16},...</td>\n",
       "      <td>84.100228</td>\n",
       "      <td>500</td>\n",
       "      <td>60000</td>\n",
       "      <td>71</td>\n",
       "      <td>704.0</td>\n",
       "      <td>617.0</td>\n",
       "      <td>50000.0</td>\n",
       "      <td>184.0</td>\n",
       "      <td>NaN</td>\n",
       "    </tr>\n",
       "    <tr>\n",
       "      <th>639</th>\n",
       "      <td>d155b055-9d26-4c3e-899b-2943ddae0867</td>\n",
       "      <td>5d398901-dad8-4ca9-bf97-819e678e7099</td>\n",
       "      <td>Agata Krupa.png</td>\n",
       "      <td>https://d48dl6cezsco5.cloudfront.net/experimen...</td>\n",
       "      <td>d3d013b6-91c2-4573-a96f-b8463b66a4a0</td>\n",
       "      <td>NaN</td>\n",
       "      <td>nnn, Female, 22</td>\n",
       "      <td>NaN</td>\n",
       "      <td>5</td>\n",
       "      <td>5</td>\n",
       "      <td>8</td>\n",
       "      <td>c6b27662-5b6e-4793-adfb-068cb958fed3</td>\n",
       "      <td>zainteresowania</td>\n",
       "      <td>[{\"areaPoints\":{\"topLeft\":{\"xPx\":24,\"yPx\":16},...</td>\n",
       "      <td>64.676227</td>\n",
       "      <td>500</td>\n",
       "      <td>60000</td>\n",
       "      <td>48</td>\n",
       "      <td>652.0</td>\n",
       "      <td>617.0</td>\n",
       "      <td>31293.0</td>\n",
       "      <td>184.0</td>\n",
       "      <td>NaN</td>\n",
       "    </tr>\n",
       "  </tbody>\n",
       "</table>\n",
       "<p>640 rows × 23 columns</p>\n",
       "</div>"
      ],
      "text/plain": [
       "                                 study_id  ...                                              notes\n",
       "0    d155b055-9d26-4c3e-899b-2943ddae0867  ...  RealEye v8.14.2; FixationFilterSettings [gazeP...\n",
       "1    d155b055-9d26-4c3e-899b-2943ddae0867  ...                                                NaN\n",
       "2    d155b055-9d26-4c3e-899b-2943ddae0867  ...                                                NaN\n",
       "3    d155b055-9d26-4c3e-899b-2943ddae0867  ...                                                NaN\n",
       "4    d155b055-9d26-4c3e-899b-2943ddae0867  ...                                                NaN\n",
       "..                                    ...  ...                                                ...\n",
       "635  d155b055-9d26-4c3e-899b-2943ddae0867  ...                                                NaN\n",
       "636  d155b055-9d26-4c3e-899b-2943ddae0867  ...                                                NaN\n",
       "637  d155b055-9d26-4c3e-899b-2943ddae0867  ...                                                NaN\n",
       "638  d155b055-9d26-4c3e-899b-2943ddae0867  ...                                                NaN\n",
       "639  d155b055-9d26-4c3e-899b-2943ddae0867  ...                                                NaN\n",
       "\n",
       "[640 rows x 23 columns]"
      ]
     },
     "execution_count": 2,
     "metadata": {},
     "output_type": "execute_result"
    }
   ],
   "source": [
    "os.getcwd()\n",
    "\n",
    "path = r'C:\\Users\\PC\\Desktop\\SEMESTER 5\\okulografia\\analiza'\n",
    "os.chdir(path)\n",
    "plik = os.listdir()\n",
    "plik[2]\n",
    "\n",
    "df = pd.read_csv(plik[3])\n",
    "df"
   ]
  },
  {
   "cell_type": "markdown",
   "id": "ca969a26",
   "metadata": {},
   "source": [
    "Pierwsze analizy:\n",
    "a) średni czas fiksacji dla każdego AOI z podziałem na grupy\n",
    "b) liczba fiksacji dla każdego AOI z podziałem na grupy\n",
    "c) jaki czas minął do pierwszej fiksacji dla każdego AOI z podziałem na grupy\n",
    "d) czas trwania pierszej fiksacji z podziałem na grupu"
   ]
  },
  {
   "cell_type": "markdown",
   "id": "b05b6cb0",
   "metadata": {},
   "source": [
    "Najpierw tworzymy grupy programistów:"
   ]
  },
  {
   "cell_type": "code",
   "execution_count": 3,
   "id": "52e9ae24",
   "metadata": {
    "jupyter": {
     "source_hidden": true
    }
   },
   "outputs": [
    {
     "data": {
      "text/html": [
       "<div>\n",
       "<style scoped>\n",
       "    .dataframe tbody tr th:only-of-type {\n",
       "        vertical-align: middle;\n",
       "    }\n",
       "\n",
       "    .dataframe tbody tr th {\n",
       "        vertical-align: top;\n",
       "    }\n",
       "\n",
       "    .dataframe thead th {\n",
       "        text-align: right;\n",
       "    }\n",
       "</style>\n",
       "<table border=\"1\" class=\"dataframe\">\n",
       "  <thead>\n",
       "    <tr style=\"text-align: right;\">\n",
       "      <th></th>\n",
       "      <th>study_id</th>\n",
       "      <th>item_id</th>\n",
       "      <th>item_filename</th>\n",
       "      <th>item_cdn_url</th>\n",
       "      <th>tester_id</th>\n",
       "      <th>tester_external_id</th>\n",
       "      <th>tester_display_name</th>\n",
       "      <th>tester_tags</th>\n",
       "      <th>tester_quality_grade</th>\n",
       "      <th>tester_quality_grade_item</th>\n",
       "      <th>test_item_display_order</th>\n",
       "      <th>aoi_id</th>\n",
       "      <th>aoi_name</th>\n",
       "      <th>aoi_item_parts</th>\n",
       "      <th>aoi_size_percents</th>\n",
       "      <th>aoi_time_range_from_ms</th>\n",
       "      <th>aoi_time_range_to_ms</th>\n",
       "      <th>aoi_fixation_total_count</th>\n",
       "      <th>aoi_fixation_average_duration_ms</th>\n",
       "      <th>aoi_fixation_ttff_ms</th>\n",
       "      <th>aoi_fixation_average_total_time_spent_ms</th>\n",
       "      <th>aoi_fixation_first_fixation_average_duration_ms</th>\n",
       "      <th>notes</th>\n",
       "    </tr>\n",
       "  </thead>\n",
       "  <tbody>\n",
       "    <tr>\n",
       "      <th>0</th>\n",
       "      <td>d155b055-9d26-4c3e-899b-2943ddae0867</td>\n",
       "      <td>a6cc7e22-511c-41a6-b4cb-bcdb3aa1531d</td>\n",
       "      <td>Adrianna Czarnecka.png</td>\n",
       "      <td>https://d48dl6cezsco5.cloudfront.net/experimen...</td>\n",
       "      <td>4c453528-0f26-4681-97e3-2a6bb075da55</td>\n",
       "      <td>NaN</td>\n",
       "      <td>khj, Female, 24</td>\n",
       "      <td>NaN</td>\n",
       "      <td>5</td>\n",
       "      <td>5</td>\n",
       "      <td>3</td>\n",
       "      <td>b2bde8a6-2e06-46ae-921d-dca51e3d70aa</td>\n",
       "      <td>avatar</td>\n",
       "      <td>[{\"areaPoints\":{\"topLeft\":{\"xPx\":1,\"yPx\":0},\"b...</td>\n",
       "      <td>24.621212</td>\n",
       "      <td>500</td>\n",
       "      <td>40000</td>\n",
       "      <td>6</td>\n",
       "      <td>293.0</td>\n",
       "      <td>653.0</td>\n",
       "      <td>1755.0</td>\n",
       "      <td>127.0</td>\n",
       "      <td>RealEye v8.14.2; FixationFilterSettings [gazeP...</td>\n",
       "    </tr>\n",
       "    <tr>\n",
       "      <th>1</th>\n",
       "      <td>d155b055-9d26-4c3e-899b-2943ddae0867</td>\n",
       "      <td>a6cc7e22-511c-41a6-b4cb-bcdb3aa1531d</td>\n",
       "      <td>Adrianna Czarnecka.png</td>\n",
       "      <td>https://d48dl6cezsco5.cloudfront.net/experimen...</td>\n",
       "      <td>4c453528-0f26-4681-97e3-2a6bb075da55</td>\n",
       "      <td>NaN</td>\n",
       "      <td>khj, Female, 24</td>\n",
       "      <td>NaN</td>\n",
       "      <td>5</td>\n",
       "      <td>5</td>\n",
       "      <td>3</td>\n",
       "      <td>bdb53d04-7c22-43c6-9997-81979a1f2ebd</td>\n",
       "      <td>doswiadczenie_zawodowe</td>\n",
       "      <td>[{\"areaPoints\":{\"topLeft\":{\"xPx\":842,\"yPx\":0},...</td>\n",
       "      <td>24.587743</td>\n",
       "      <td>500</td>\n",
       "      <td>40000</td>\n",
       "      <td>28</td>\n",
       "      <td>514.0</td>\n",
       "      <td>14672.0</td>\n",
       "      <td>14401.0</td>\n",
       "      <td>167.0</td>\n",
       "      <td>NaN</td>\n",
       "    </tr>\n",
       "    <tr>\n",
       "      <th>2</th>\n",
       "      <td>d155b055-9d26-4c3e-899b-2943ddae0867</td>\n",
       "      <td>a6cc7e22-511c-41a6-b4cb-bcdb3aa1531d</td>\n",
       "      <td>Adrianna Czarnecka.png</td>\n",
       "      <td>https://d48dl6cezsco5.cloudfront.net/experimen...</td>\n",
       "      <td>4c453528-0f26-4681-97e3-2a6bb075da55</td>\n",
       "      <td>NaN</td>\n",
       "      <td>khj, Female, 24</td>\n",
       "      <td>NaN</td>\n",
       "      <td>5</td>\n",
       "      <td>5</td>\n",
       "      <td>3</td>\n",
       "      <td>f76ce316-a2ec-421b-a9a6-b59f9f93ec84</td>\n",
       "      <td>wyksztalcenie</td>\n",
       "      <td>[{\"areaPoints\":{\"topLeft\":{\"xPx\":840,\"yPx\":592...</td>\n",
       "      <td>24.982464</td>\n",
       "      <td>500</td>\n",
       "      <td>40000</td>\n",
       "      <td>23</td>\n",
       "      <td>421.0</td>\n",
       "      <td>8751.0</td>\n",
       "      <td>9682.0</td>\n",
       "      <td>372.0</td>\n",
       "      <td>NaN</td>\n",
       "    </tr>\n",
       "    <tr>\n",
       "      <th>3</th>\n",
       "      <td>d155b055-9d26-4c3e-899b-2943ddae0867</td>\n",
       "      <td>a6cc7e22-511c-41a6-b4cb-bcdb3aa1531d</td>\n",
       "      <td>Adrianna Czarnecka.png</td>\n",
       "      <td>https://d48dl6cezsco5.cloudfront.net/experimen...</td>\n",
       "      <td>4c453528-0f26-4681-97e3-2a6bb075da55</td>\n",
       "      <td>NaN</td>\n",
       "      <td>khj, Female, 24</td>\n",
       "      <td>NaN</td>\n",
       "      <td>5</td>\n",
       "      <td>5</td>\n",
       "      <td>3</td>\n",
       "      <td>fb34f810-dddd-465a-b6fc-f9fa43ed5f0c</td>\n",
       "      <td>zainteresowania</td>\n",
       "      <td>[{\"areaPoints\":{\"topLeft\":{\"xPx\":0,\"yPx\":586},...</td>\n",
       "      <td>25.294613</td>\n",
       "      <td>500</td>\n",
       "      <td>40000</td>\n",
       "      <td>16</td>\n",
       "      <td>459.0</td>\n",
       "      <td>2694.0</td>\n",
       "      <td>7350.0</td>\n",
       "      <td>600.0</td>\n",
       "      <td>NaN</td>\n",
       "    </tr>\n",
       "    <tr>\n",
       "      <th>4</th>\n",
       "      <td>d155b055-9d26-4c3e-899b-2943ddae0867</td>\n",
       "      <td>a6cc7e22-511c-41a6-b4cb-bcdb3aa1531d</td>\n",
       "      <td>Adrianna Czarnecka.png</td>\n",
       "      <td>https://d48dl6cezsco5.cloudfront.net/experimen...</td>\n",
       "      <td>be1eaac1-7d51-4601-b2d4-da48fb673ac9</td>\n",
       "      <td>NaN</td>\n",
       "      <td>Anonymous, Male, 22</td>\n",
       "      <td>NaN</td>\n",
       "      <td>4</td>\n",
       "      <td>3</td>\n",
       "      <td>4</td>\n",
       "      <td>b2bde8a6-2e06-46ae-921d-dca51e3d70aa</td>\n",
       "      <td>avatar</td>\n",
       "      <td>[{\"areaPoints\":{\"topLeft\":{\"xPx\":1,\"yPx\":0},\"b...</td>\n",
       "      <td>24.621212</td>\n",
       "      <td>500</td>\n",
       "      <td>40000</td>\n",
       "      <td>3</td>\n",
       "      <td>296.0</td>\n",
       "      <td>1427.0</td>\n",
       "      <td>889.0</td>\n",
       "      <td>265.0</td>\n",
       "      <td>NaN</td>\n",
       "    </tr>\n",
       "  </tbody>\n",
       "</table>\n",
       "</div>"
      ],
      "text/plain": [
       "                               study_id  ...                                              notes\n",
       "0  d155b055-9d26-4c3e-899b-2943ddae0867  ...  RealEye v8.14.2; FixationFilterSettings [gazeP...\n",
       "1  d155b055-9d26-4c3e-899b-2943ddae0867  ...                                                NaN\n",
       "2  d155b055-9d26-4c3e-899b-2943ddae0867  ...                                                NaN\n",
       "3  d155b055-9d26-4c3e-899b-2943ddae0867  ...                                                NaN\n",
       "4  d155b055-9d26-4c3e-899b-2943ddae0867  ...                                                NaN\n",
       "\n",
       "[5 rows x 23 columns]"
      ]
     },
     "execution_count": 3,
     "metadata": {},
     "output_type": "execute_result"
    }
   ],
   "source": [
    "df_programisci = df[(df['item_filename'] == \"Adrianna Czarnecka.png\") | (df['item_filename'] == \"Aleks Szewczyk.png\") | (df['item_filename'] == \"Fabian Jankowski.png\") | (df['item_filename'] == \"Weronika Michalak.png\")]\n",
    "df_programisci.head()"
   ]
  },
  {
   "cell_type": "markdown",
   "id": "8d3783aa",
   "metadata": {},
   "source": [
    "Wybieramy grupy recepcjonistów bez Agaty Krupy, ze względu na błąd techniczny:"
   ]
  },
  {
   "cell_type": "code",
   "execution_count": 4,
   "id": "cdaff668",
   "metadata": {
    "jupyter": {
     "source_hidden": true
    }
   },
   "outputs": [
    {
     "data": {
      "text/html": [
       "<div>\n",
       "<style scoped>\n",
       "    .dataframe tbody tr th:only-of-type {\n",
       "        vertical-align: middle;\n",
       "    }\n",
       "\n",
       "    .dataframe tbody tr th {\n",
       "        vertical-align: top;\n",
       "    }\n",
       "\n",
       "    .dataframe thead th {\n",
       "        text-align: right;\n",
       "    }\n",
       "</style>\n",
       "<table border=\"1\" class=\"dataframe\">\n",
       "  <thead>\n",
       "    <tr style=\"text-align: right;\">\n",
       "      <th></th>\n",
       "      <th>study_id</th>\n",
       "      <th>item_id</th>\n",
       "      <th>item_filename</th>\n",
       "      <th>item_cdn_url</th>\n",
       "      <th>tester_id</th>\n",
       "      <th>tester_external_id</th>\n",
       "      <th>tester_display_name</th>\n",
       "      <th>tester_tags</th>\n",
       "      <th>tester_quality_grade</th>\n",
       "      <th>tester_quality_grade_item</th>\n",
       "      <th>test_item_display_order</th>\n",
       "      <th>aoi_id</th>\n",
       "      <th>aoi_name</th>\n",
       "      <th>aoi_item_parts</th>\n",
       "      <th>aoi_size_percents</th>\n",
       "      <th>aoi_time_range_from_ms</th>\n",
       "      <th>aoi_time_range_to_ms</th>\n",
       "      <th>aoi_fixation_total_count</th>\n",
       "      <th>aoi_fixation_average_duration_ms</th>\n",
       "      <th>aoi_fixation_ttff_ms</th>\n",
       "      <th>aoi_fixation_average_total_time_spent_ms</th>\n",
       "      <th>aoi_fixation_first_fixation_average_duration_ms</th>\n",
       "      <th>notes</th>\n",
       "    </tr>\n",
       "  </thead>\n",
       "  <tbody>\n",
       "    <tr>\n",
       "      <th>320</th>\n",
       "      <td>d155b055-9d26-4c3e-899b-2943ddae0867</td>\n",
       "      <td>db77090b-7b13-43e1-bea6-487586b34e80</td>\n",
       "      <td>Ernest Kowalczyk.png</td>\n",
       "      <td>https://d48dl6cezsco5.cloudfront.net/experimen...</td>\n",
       "      <td>be1eaac1-7d51-4601-b2d4-da48fb673ac9</td>\n",
       "      <td>NaN</td>\n",
       "      <td>Anonymous, Male, 22</td>\n",
       "      <td>NaN</td>\n",
       "      <td>4</td>\n",
       "      <td>4</td>\n",
       "      <td>5</td>\n",
       "      <td>0227e8d9-66b7-48ba-a07b-6cc8a737d2a4</td>\n",
       "      <td>avatar</td>\n",
       "      <td>[{\"areaPoints\":{\"topLeft\":{\"xPx\":0,\"yPx\":3},\"b...</td>\n",
       "      <td>24.949896</td>\n",
       "      <td>500</td>\n",
       "      <td>40000</td>\n",
       "      <td>7</td>\n",
       "      <td>258.0</td>\n",
       "      <td>884.0</td>\n",
       "      <td>1803.0</td>\n",
       "      <td>179.0</td>\n",
       "      <td>RealEye v8.14.2; FixationFilterSettings [gazeP...</td>\n",
       "    </tr>\n",
       "    <tr>\n",
       "      <th>321</th>\n",
       "      <td>d155b055-9d26-4c3e-899b-2943ddae0867</td>\n",
       "      <td>db77090b-7b13-43e1-bea6-487586b34e80</td>\n",
       "      <td>Ernest Kowalczyk.png</td>\n",
       "      <td>https://d48dl6cezsco5.cloudfront.net/experimen...</td>\n",
       "      <td>be1eaac1-7d51-4601-b2d4-da48fb673ac9</td>\n",
       "      <td>NaN</td>\n",
       "      <td>Anonymous, Male, 22</td>\n",
       "      <td>NaN</td>\n",
       "      <td>4</td>\n",
       "      <td>4</td>\n",
       "      <td>5</td>\n",
       "      <td>86000e71-1a43-4d3a-a4ed-fdc9ac4d40d8</td>\n",
       "      <td>doswiadczenie_zawodowe</td>\n",
       "      <td>[{\"areaPoints\":{\"topLeft\":{\"xPx\":841,\"yPx\":0},...</td>\n",
       "      <td>24.856502</td>\n",
       "      <td>500</td>\n",
       "      <td>40000</td>\n",
       "      <td>32</td>\n",
       "      <td>350.0</td>\n",
       "      <td>12468.0</td>\n",
       "      <td>11199.0</td>\n",
       "      <td>100.0</td>\n",
       "      <td>NaN</td>\n",
       "    </tr>\n",
       "    <tr>\n",
       "      <th>322</th>\n",
       "      <td>d155b055-9d26-4c3e-899b-2943ddae0867</td>\n",
       "      <td>db77090b-7b13-43e1-bea6-487586b34e80</td>\n",
       "      <td>Ernest Kowalczyk.png</td>\n",
       "      <td>https://d48dl6cezsco5.cloudfront.net/experimen...</td>\n",
       "      <td>be1eaac1-7d51-4601-b2d4-da48fb673ac9</td>\n",
       "      <td>NaN</td>\n",
       "      <td>Anonymous, Male, 22</td>\n",
       "      <td>NaN</td>\n",
       "      <td>4</td>\n",
       "      <td>4</td>\n",
       "      <td>5</td>\n",
       "      <td>1fddd2db-150f-485d-8842-d5ff0bcf8802</td>\n",
       "      <td>wyksztalcenie</td>\n",
       "      <td>[{\"areaPoints\":{\"topLeft\":{\"xPx\":0,\"yPx\":622},...</td>\n",
       "      <td>47.670455</td>\n",
       "      <td>500</td>\n",
       "      <td>40000</td>\n",
       "      <td>35</td>\n",
       "      <td>407.0</td>\n",
       "      <td>609.0</td>\n",
       "      <td>14255.0</td>\n",
       "      <td>209.0</td>\n",
       "      <td>NaN</td>\n",
       "    </tr>\n",
       "    <tr>\n",
       "      <th>323</th>\n",
       "      <td>d155b055-9d26-4c3e-899b-2943ddae0867</td>\n",
       "      <td>db77090b-7b13-43e1-bea6-487586b34e80</td>\n",
       "      <td>Ernest Kowalczyk.png</td>\n",
       "      <td>https://d48dl6cezsco5.cloudfront.net/experimen...</td>\n",
       "      <td>be1eaac1-7d51-4601-b2d4-da48fb673ac9</td>\n",
       "      <td>NaN</td>\n",
       "      <td>Anonymous, Male, 22</td>\n",
       "      <td>NaN</td>\n",
       "      <td>4</td>\n",
       "      <td>4</td>\n",
       "      <td>5</td>\n",
       "      <td>aa01964f-a5c2-47f1-82a3-0ac8be0506f3</td>\n",
       "      <td>zainteresowania</td>\n",
       "      <td>[{\"areaPoints\":{\"topLeft\":{\"xPx\":0,\"yPx\":622},...</td>\n",
       "      <td>23.751152</td>\n",
       "      <td>500</td>\n",
       "      <td>40000</td>\n",
       "      <td>21</td>\n",
       "      <td>414.0</td>\n",
       "      <td>609.0</td>\n",
       "      <td>8686.0</td>\n",
       "      <td>209.0</td>\n",
       "      <td>NaN</td>\n",
       "    </tr>\n",
       "    <tr>\n",
       "      <th>324</th>\n",
       "      <td>d155b055-9d26-4c3e-899b-2943ddae0867</td>\n",
       "      <td>db77090b-7b13-43e1-bea6-487586b34e80</td>\n",
       "      <td>Ernest Kowalczyk.png</td>\n",
       "      <td>https://d48dl6cezsco5.cloudfront.net/experimen...</td>\n",
       "      <td>4c453528-0f26-4681-97e3-2a6bb075da55</td>\n",
       "      <td>NaN</td>\n",
       "      <td>khj, Female, 24</td>\n",
       "      <td>NaN</td>\n",
       "      <td>5</td>\n",
       "      <td>5</td>\n",
       "      <td>2</td>\n",
       "      <td>0227e8d9-66b7-48ba-a07b-6cc8a737d2a4</td>\n",
       "      <td>avatar</td>\n",
       "      <td>[{\"areaPoints\":{\"topLeft\":{\"xPx\":0,\"yPx\":3},\"b...</td>\n",
       "      <td>24.949896</td>\n",
       "      <td>500</td>\n",
       "      <td>40000</td>\n",
       "      <td>8</td>\n",
       "      <td>422.0</td>\n",
       "      <td>531.0</td>\n",
       "      <td>3374.0</td>\n",
       "      <td>543.0</td>\n",
       "      <td>NaN</td>\n",
       "    </tr>\n",
       "  </tbody>\n",
       "</table>\n",
       "</div>"
      ],
      "text/plain": [
       "                                 study_id  ...                                              notes\n",
       "320  d155b055-9d26-4c3e-899b-2943ddae0867  ...  RealEye v8.14.2; FixationFilterSettings [gazeP...\n",
       "321  d155b055-9d26-4c3e-899b-2943ddae0867  ...                                                NaN\n",
       "322  d155b055-9d26-4c3e-899b-2943ddae0867  ...                                                NaN\n",
       "323  d155b055-9d26-4c3e-899b-2943ddae0867  ...                                                NaN\n",
       "324  d155b055-9d26-4c3e-899b-2943ddae0867  ...                                                NaN\n",
       "\n",
       "[5 rows x 23 columns]"
      ]
     },
     "execution_count": 4,
     "metadata": {},
     "output_type": "execute_result"
    }
   ],
   "source": [
    "df_recepcjonisci = df[(df['item_filename'] == \"Ernest Kowalczyk.png\") | (df['item_filename'] == \"Ula Suchocka.png\") | (df['item_filename'] == \"Robert Malinowski.png\")]\n",
    "df_recepcjonisci.head()"
   ]
  },
  {
   "cell_type": "markdown",
   "id": "0982503c",
   "metadata": {},
   "source": [
    "a) średni czas fiksacji dla każdego AOI, programiści:"
   ]
  },
  {
   "cell_type": "code",
   "execution_count": 5,
   "id": "03ed04d9",
   "metadata": {
    "jupyter": {
     "source_hidden": true
    }
   },
   "outputs": [
    {
     "name": "stdout",
     "output_type": "stream",
     "text": [
      "Statystyki podstawowe dla programistów:  \n",
      "\n",
      "avatar   333.0886075949367   105.84667065648307\n",
      "doswiadczenie_zawodowe   381.0506329113924   161.0659921078837\n",
      "wyksztalcenie   360.425   121.5295442606658\n",
      "zainteresowania   397.8625   179.63456179460354\n"
     ]
    }
   ],
   "source": [
    "lista_AOI = [\"avatar\", \"doswiadczenie_zawodowe\", \"wyksztalcenie\", \"zainteresowania\"]\n",
    "\n",
    "print(\"Statystyki podstawowe dla programistów:  \\n\")\n",
    "for i in lista_AOI:\n",
    "    df_tymczasowe = df_programisci[df_programisci[\"aoi_name\"] == i]\n",
    "    wynik = df_tymczasowe[\"aoi_fixation_average_duration_ms\"].mean(skipna = True)\n",
    "    wynik_std = df_tymczasowe[\"aoi_fixation_average_duration_ms\"].std(skipna = True)\n",
    "    print(i, \" \", wynik, \" \", wynik_std)"
   ]
  },
  {
   "cell_type": "markdown",
   "id": "26f41d9d",
   "metadata": {},
   "source": [
    "b) liczba fiksacji dla każdego AOI, programiści:"
   ]
  },
  {
   "cell_type": "code",
   "execution_count": 6,
   "id": "5858e58f",
   "metadata": {
    "jupyter": {
     "source_hidden": true
    }
   },
   "outputs": [
    {
     "name": "stdout",
     "output_type": "stream",
     "text": [
      "Statystyki podstawowe dla programistów:  \n",
      "\n",
      "avatar   23.6875   23.912071920774743\n",
      "doswiadczenie_zawodowe   28.5875   16.035319994991436\n",
      "wyksztalcenie   42.175   22.13349648534245\n",
      "zainteresowania   19.4   8.899722652484135\n"
     ]
    }
   ],
   "source": [
    "print(\"Statystyki podstawowe dla programistów:  \\n\")\n",
    "for i in lista_AOI:\n",
    "    df_tymczasowe = df_programisci[df_programisci[\"aoi_name\"] == i]\n",
    "    wynik = df_tymczasowe[\"aoi_fixation_total_count\"].mean(skipna = True)\n",
    "    wynik_std = df_tymczasowe[\"aoi_fixation_total_count\"].std(skipna = True)\n",
    "    print(i, \" \", wynik, \" \", wynik_std)"
   ]
  },
  {
   "cell_type": "markdown",
   "id": "36c16a01",
   "metadata": {},
   "source": [
    "c) jaki czas minął do pierwszej fiksacji dla każdego AOI, programiści:"
   ]
  },
  {
   "cell_type": "code",
   "execution_count": 7,
   "id": "10d31614",
   "metadata": {
    "jupyter": {
     "source_hidden": true
    }
   },
   "outputs": [
    {
     "name": "stdout",
     "output_type": "stream",
     "text": [
      "Statystyki podstawowe dla programistów:  \n",
      "\n",
      "avatar   2053.5949367088606   3466.4089062912153\n",
      "doswiadczenie_zawodowe   3956.0759493670885   5228.3924326751885\n",
      "wyksztalcenie   4343.1   4796.6834204372335\n",
      "zainteresowania   6761.575   6524.154616703855\n"
     ]
    }
   ],
   "source": [
    "print(\"Statystyki podstawowe dla programistów:  \\n\")\n",
    "for i in lista_AOI:\n",
    "    df_tymczasowe = df_programisci[df_programisci[\"aoi_name\"] == i]\n",
    "    wynik = df_tymczasowe[\"aoi_fixation_ttff_ms\"].mean(skipna = True)\n",
    "    wynik_std = df_tymczasowe[\"aoi_fixation_ttff_ms\"].std(skipna = True)\n",
    "    print(i, \" \", wynik, \" \", wynik_std)"
   ]
  },
  {
   "cell_type": "markdown",
   "id": "e7c229d5",
   "metadata": {},
   "source": [
    "d) czas trwania pierszej fiksacji, programiści:"
   ]
  },
  {
   "cell_type": "code",
   "execution_count": 8,
   "id": "dd9a6fea",
   "metadata": {
    "jupyter": {
     "source_hidden": true
    }
   },
   "outputs": [
    {
     "name": "stdout",
     "output_type": "stream",
     "text": [
      "Statystyki podstawowe dla programistów:  \n",
      "\n",
      "avatar   273.30379746835445   208.1486989698236\n",
      "doswiadczenie_zawodowe   335.32911392405066   296.157257322169\n",
      "wyksztalcenie   248.925   165.8306809477358\n",
      "zainteresowania   318.8375   264.43134323451545\n"
     ]
    }
   ],
   "source": [
    "print(\"Statystyki podstawowe dla programistów:  \\n\")\n",
    "for i in lista_AOI:\n",
    "    df_tymczasowe = df_programisci[df_programisci[\"aoi_name\"] == i]\n",
    "    wynik = df_tymczasowe[\"aoi_fixation_first_fixation_average_duration_ms\"].mean(skipna = True)\n",
    "    wynik_std = df_tymczasowe[\"aoi_fixation_first_fixation_average_duration_ms\"].std(skipna = True)\n",
    "    print(i, \" \", wynik, \" \", wynik_std)"
   ]
  },
  {
   "cell_type": "markdown",
   "id": "e45e56ae",
   "metadata": {},
   "source": [
    "a) średni czas fiksacji dla każdego AOI, recepcjoniści:"
   ]
  },
  {
   "cell_type": "code",
   "execution_count": 9,
   "id": "9a5b0e76",
   "metadata": {
    "jupyter": {
     "source_hidden": true
    }
   },
   "outputs": [
    {
     "name": "stdout",
     "output_type": "stream",
     "text": [
      "Statystyki podstawowe dla recepcjonistów:  \n",
      "\n",
      "avatar   291.6   98.05052312326417\n",
      "doswiadczenie_zawodowe   360.81666666666666   120.20173603002898\n",
      "wyksztalcenie   374.28333333333336   143.60280574977998\n",
      "zainteresowania   391.7   181.9398578223221\n"
     ]
    }
   ],
   "source": [
    "print(\"Statystyki podstawowe dla recepcjonistów:  \\n\")\n",
    "for i in lista_AOI:\n",
    "    df_tymczasowe = df_recepcjonisci[df_recepcjonisci[\"aoi_name\"] == i]\n",
    "    wynik = df_tymczasowe[\"aoi_fixation_average_duration_ms\"].mean(skipna = True)\n",
    "    wynik_std = df_tymczasowe[\"aoi_fixation_average_duration_ms\"].std(skipna = True)\n",
    "    print(i, \" \", wynik, \" \", wynik_std)"
   ]
  },
  {
   "cell_type": "markdown",
   "id": "2a87276d",
   "metadata": {},
   "source": [
    "b) liczba fiksacji dla każdego AOI, recepcjoniści:"
   ]
  },
  {
   "cell_type": "code",
   "execution_count": 10,
   "id": "e7a99348",
   "metadata": {
    "jupyter": {
     "source_hidden": true
    }
   },
   "outputs": [
    {
     "name": "stdout",
     "output_type": "stream",
     "text": [
      "Statystyki podstawowe dla recepcjonistów:  \n",
      "\n",
      "avatar   14.333333333333334   10.90119985102972\n",
      "doswiadczenie_zawodowe   35.166666666666664   16.021348751562993\n",
      "wyksztalcenie   67.66666666666667   25.205371143136873\n",
      "zainteresowania   45.983333333333334   24.375933996302386\n"
     ]
    }
   ],
   "source": [
    "print(\"Statystyki podstawowe dla recepcjonistów:  \\n\")\n",
    "for i in lista_AOI:\n",
    "    df_tymczasowe = df_recepcjonisci[df_recepcjonisci[\"aoi_name\"] == i]\n",
    "    wynik = df_tymczasowe[\"aoi_fixation_total_count\"].mean(skipna = True)\n",
    "    wynik_std = df_tymczasowe[\"aoi_fixation_total_count\"].std(skipna = True)\n",
    "    print(i, \" \", wynik, \" \", wynik_std)"
   ]
  },
  {
   "cell_type": "markdown",
   "id": "0ecfba8d",
   "metadata": {},
   "source": [
    "c) jaki czas minął do pierwszej fiksacji dla każdego AOI, recepcjoniści:"
   ]
  },
  {
   "cell_type": "code",
   "execution_count": 11,
   "id": "b9c7a19d",
   "metadata": {
    "jupyter": {
     "source_hidden": true
    }
   },
   "outputs": [
    {
     "name": "stdout",
     "output_type": "stream",
     "text": [
      "Statystyki podstawowe dla recepcjonistów:  \n",
      "\n",
      "avatar   1917.1166666666666   4808.037772672583\n",
      "doswiadczenie_zawodowe   2398.0333333333333   3246.4774963740742\n",
      "wyksztalcenie   1749.1666666666667   2430.074694859989\n",
      "zainteresowania   2640.0666666666666   4676.170481105408\n"
     ]
    }
   ],
   "source": [
    "print(\"Statystyki podstawowe dla recepcjonistów:  \\n\")\n",
    "for i in lista_AOI:\n",
    "    df_tymczasowe = df_recepcjonisci[df_recepcjonisci[\"aoi_name\"] == i]\n",
    "    wynik = df_tymczasowe[\"aoi_fixation_ttff_ms\"].mean(skipna = True)\n",
    "    wynik_std = df_tymczasowe[\"aoi_fixation_ttff_ms\"].std(skipna = True)\n",
    "    print(i, \" \", wynik, \" \", wynik_std)"
   ]
  },
  {
   "cell_type": "markdown",
   "id": "35a0265e",
   "metadata": {},
   "source": [
    "d) czas trwania pierszej fiksacji, recepcjoniści:"
   ]
  },
  {
   "cell_type": "code",
   "execution_count": 12,
   "id": "f7a4c12f",
   "metadata": {
    "jupyter": {
     "source_hidden": true
    }
   },
   "outputs": [
    {
     "name": "stdout",
     "output_type": "stream",
     "text": [
      "Statystyki podstawowe dla recepcjonistów:  \n",
      "\n",
      "avatar   263.8   151.6083044100873\n",
      "doswiadczenie_zawodowe   306.1   256.6022907014284\n",
      "wyksztalcenie   334.95   404.69697493979834\n",
      "zainteresowania   320.8   247.701214218711\n"
     ]
    }
   ],
   "source": [
    "print(\"Statystyki podstawowe dla recepcjonistów:  \\n\")\n",
    "for i in lista_AOI:\n",
    "    df_tymczasowe = df_recepcjonisci[df_recepcjonisci[\"aoi_name\"] == i]\n",
    "    wynik = df_tymczasowe[\"aoi_fixation_first_fixation_average_duration_ms\"].mean(skipna = True)\n",
    "    wynik_std = df_tymczasowe[\"aoi_fixation_first_fixation_average_duration_ms\"].std(skipna = True)\n",
    "    print(i, \" \", wynik, \" \", wynik_std)"
   ]
  },
  {
   "cell_type": "markdown",
   "id": "fc316fc9",
   "metadata": {},
   "source": [
    "PLOTY ZE STATYSTYK PODSTAWOWYCH:"
   ]
  },
  {
   "cell_type": "markdown",
   "id": "5215d28b",
   "metadata": {},
   "source": [
    "1) Plot średni czas fiksacji dla każdego AOI, programiści vs recepcjoniści:"
   ]
  },
  {
   "cell_type": "code",
   "execution_count": 13,
   "id": "0fccaf41",
   "metadata": {
    "jupyter": {
     "source_hidden": true
    }
   },
   "outputs": [],
   "source": [
    "dic_Series1= {}\n",
    "\n",
    "for i in lista_AOI:\n",
    "    df_roboczy = df_programisci[df_programisci[\"aoi_name\"] == i]\n",
    "    series = df_roboczy['aoi_fixation_average_duration_ms'].dropna()  #WYRZUCIĆ NAN!!!!!!\n",
    "    dic_Series1[i] = list(series)\n",
    "    \n",
    "dic_Series2= {}\n",
    "\n",
    "for i in lista_AOI:\n",
    "    df_roboczy = df_recepcjonisci[df_recepcjonisci[\"aoi_name\"] == i]\n",
    "    series = df_roboczy['aoi_fixation_average_duration_ms'].dropna()  #WYRZUCIĆ NAN!!!!!!\n",
    "    dic_Series2[i] = list(series)\n",
    "\n"
   ]
  },
  {
   "cell_type": "code",
   "execution_count": 14,
   "id": "0c4ec5f8",
   "metadata": {
    "jupyter": {
     "source_hidden": true
    }
   },
   "outputs": [
    {
     "data": {
      "image/png": "[encoded data removed]",
      "text/plain": [
       "<Figure size 1440x360 with 2 Axes>"
      ]
     },
     "metadata": {},
     "output_type": "display_data"
    }
   ],
   "source": [
    "fig, (ax1, ax2) = plt.subplots(nrows=1, ncols=2, figsize=(20, 5))\n",
    "\n",
    "# rectangular box plot\n",
    "bplot1 = ax1.boxplot(dic_Series1.values(),\n",
    "                     vert=True,  # vertical box alignment\n",
    "                     patch_artist=True,  # fill with color\n",
    "                     labels = dic_Series2.keys())  # will be used to label x-ticks\n",
    "ax1.set_title('Programiści: średnie czasy fiksacji na poszczególnych AOI')\n",
    "ax1.set(ylim=(0, 1400))\n",
    "\n",
    "# notch shape box plot\n",
    "bplot2 = ax2.boxplot(dic_Series2.values(),\n",
    "                     vert=True,  # vertical box alignment\n",
    "                     patch_artist=True,  # fill with color\n",
    "                     labels = dic_Series2.keys())  # will be used to label x-ticks\n",
    "ax2.set_title('Recepcjoniści: średnie czasy fiksacji na poszczególnych AOI')\n",
    "ax2.set(ylim=(0, 1400))\n",
    "\n",
    "# fill with colors\n",
    "colors = ['pink', 'lightblue', 'lightgreen', 'gainsboro']\n",
    "for bplot in (bplot1, bplot2):\n",
    "    for patch, color in zip(bplot['boxes'], colors):\n",
    "        patch.set_facecolor(color)\n",
    "\n",
    "# adding horizontal grid lines\n",
    "for ax in [ax1, ax2]:\n",
    "    ax.yaxis.grid(True)\n",
    "    ax.set_xlabel('Lista AOI')\n",
    "    ax.set_ylabel('Czas trwania [ms]')\n",
    "\n",
    "plt.show()"
   ]
  },
  {
   "cell_type": "markdown",
   "id": "0536562a",
   "metadata": {},
   "source": [
    "2) Plot liczba fiksacji dla każdego AOI, programiści vs recepcjoniści:"
   ]
  },
  {
   "cell_type": "code",
   "execution_count": 15,
   "id": "5d0e7801",
   "metadata": {
    "jupyter": {
     "source_hidden": true
    }
   },
   "outputs": [],
   "source": [
    "dic_Series1= {}\n",
    "\n",
    "for i in lista_AOI:\n",
    "    df_roboczy = df_programisci[df_programisci[\"aoi_name\"] == i]\n",
    "    series = df_roboczy['aoi_fixation_total_count'].dropna()  #WYRZUCIĆ NAN!!!!!!\n",
    "    dic_Series1[i] = list(series)\n",
    "    \n",
    "dic_Series2= {}\n",
    "\n",
    "for i in lista_AOI:\n",
    "    df_roboczy = df_recepcjonisci[df_recepcjonisci[\"aoi_name\"] == i]\n",
    "    series = df_roboczy['aoi_fixation_total_count'].dropna()  #WYRZUCIĆ NAN!!!!!!\n",
    "    dic_Series2[i] = list(series)"
   ]
  },
  {
   "cell_type": "code",
   "execution_count": 16,
   "id": "99b37276",
   "metadata": {
    "jupyter": {
     "source_hidden": true
    }
   },
   "outputs": [
    {
     "data": {
      "image/png": "[encoded data removed]",
      "text/plain": [
       "<Figure size 1440x360 with 2 Axes>"
      ]
     },
     "metadata": {},
     "output_type": "display_data"
    }
   ],
   "source": [
    "fig, (ax1, ax2) = plt.subplots(nrows=1, ncols=2, figsize=(20, 5))\n",
    "\n",
    "# rectangular box plot\n",
    "bplot1 = ax1.boxplot(dic_Series1.values(),\n",
    "                     vert=True,  # vertical box alignment\n",
    "                     patch_artist=True,  # fill with color\n",
    "                     labels = dic_Series2.keys())  # will be used to label x-ticks\n",
    "ax1.set_title('Programiści: liczba spojrzeń na poszczególnych AOI')\n",
    "ax1.set(ylim=(0, 120))\n",
    "\n",
    "\n",
    "# notch shape box plot\n",
    "bplot2 = ax2.boxplot(dic_Series2.values(),\n",
    "                     vert=True,  # vertical box alignment\n",
    "                     patch_artist=True,  # fill with color\n",
    "                     labels = dic_Series2.keys())  # will be used to label x-ticks\n",
    "ax2.set_title('Recepcjoniści: liczba spojrzeń na poszczególnych AOI')\n",
    "ax2.set(ylim=(0, 120))\n",
    "\n",
    "# fill with colors\n",
    "colors = ['pink', 'lightblue', 'lightgreen', 'gainsboro']\n",
    "for bplot in (bplot1, bplot2):\n",
    "    for patch, color in zip(bplot['boxes'], colors):\n",
    "        patch.set_facecolor(color)\n",
    "\n",
    "# adding horizontal grid lines\n",
    "for ax in [ax1, ax2]:\n",
    "    ax.yaxis.grid(True)\n",
    "    ax.set_xlabel('Lista AOI')\n",
    "    ax.set_ylabel('Liczba spojrzeń')\n",
    "\n",
    "plt.show()"
   ]
  },
  {
   "cell_type": "markdown",
   "id": "89db0824",
   "metadata": {},
   "source": [
    "3) Plot jaki czas minął do pierwszej fiksacji dla każdego AOI, programiści vs recepcjoniści:"
   ]
  },
  {
   "cell_type": "code",
   "execution_count": 17,
   "id": "825112a8",
   "metadata": {
    "jupyter": {
     "source_hidden": true
    }
   },
   "outputs": [],
   "source": [
    "dic_Series1= {}\n",
    "\n",
    "for i in lista_AOI:\n",
    "    df_roboczy = df_programisci[df_programisci[\"aoi_name\"] == i]\n",
    "    series = df_roboczy['aoi_fixation_ttff_ms'].dropna()  #WYRZUCIĆ NAN!!!!!!\n",
    "    dic_Series1[i] = list(series)\n",
    "    \n",
    "dic_Series2= {}\n",
    "\n",
    "for i in lista_AOI:\n",
    "    df_roboczy = df_recepcjonisci[df_recepcjonisci[\"aoi_name\"] == i]\n",
    "    series = df_roboczy['aoi_fixation_ttff_ms'].dropna()  #WYRZUCIĆ NAN!!!!!!\n",
    "    dic_Series2[i] = list(series)"
   ]
  },
  {
   "cell_type": "code",
   "execution_count": 18,
   "id": "cafd8c85",
   "metadata": {
    "jupyter": {
     "source_hidden": true
    }
   },
   "outputs": [
    {
     "data": {
      "image/png": "[encoded data removed]",
      "text/plain": [
       "<Figure size 1440x360 with 2 Axes>"
      ]
     },
     "metadata": {},
     "output_type": "display_data"
    }
   ],
   "source": [
    "fig, (ax1, ax2) = plt.subplots(nrows=1, ncols=2, figsize=(20, 5))\n",
    "\n",
    "# rectangular box plot\n",
    "bplot1 = ax1.boxplot(dic_Series1.values(),\n",
    "                     vert=True,  # vertical box alignment\n",
    "                     patch_artist=True,  # fill with color\n",
    "                     labels = dic_Series2.keys())  # will be used to label x-ticks\n",
    "ax1.set_title('Programiści: jaki czas minął do pierwszej fiksac dla  poszczególnych AOI')\n",
    "ax1.set(ylim=(0, 25000))\n",
    "\n",
    "# notch shape box plot\n",
    "bplot2 = ax2.boxplot(dic_Series2.values(),\n",
    "                     vert=True,  # vertical box alignment\n",
    "                     patch_artist=True,  # fill with color\n",
    "                     labels = dic_Series2.keys())  # will be used to label x-ticks\n",
    "ax2.set_title('Recepcjoniści: jaki czas minął do pierwszej fiksac dla poszczególnych AOI')\n",
    "ax2.set(ylim=(0, 25000))\n",
    "\n",
    "# fill with colors\n",
    "colors = ['pink', 'lightblue', 'lightgreen', 'gainsboro']\n",
    "for bplot in (bplot1, bplot2):\n",
    "    for patch, color in zip(bplot['boxes'], colors):\n",
    "        patch.set_facecolor(color)\n",
    "\n",
    "# adding horizontal grid lines\n",
    "for ax in [ax1, ax2]:\n",
    "    ax.yaxis.grid(True)\n",
    "    ax.set_xlabel('Lista AOI')\n",
    "    ax.set_ylabel('Czas jaki minął do pierwszej fiksacji [ms]')\n",
    "\n",
    "plt.show()"
   ]
  },
  {
   "cell_type": "markdown",
   "id": "0b40bf89",
   "metadata": {},
   "source": [
    "4) Plot jaki czas trwania pierszej fiksacji dla każdego AOI, programiści vs recepcjoniści:"
   ]
  },
  {
   "cell_type": "code",
   "execution_count": 19,
   "id": "c1efb186",
   "metadata": {
    "jupyter": {
     "source_hidden": true
    }
   },
   "outputs": [],
   "source": [
    "dic_Series1= {}\n",
    "\n",
    "for i in lista_AOI:\n",
    "    df_roboczy = df_programisci[df_programisci[\"aoi_name\"] == i]\n",
    "    series = df_roboczy['aoi_fixation_first_fixation_average_duration_ms'].dropna()  #WYRZUCIĆ NAN!!!!!!\n",
    "    dic_Series1[i] = list(series)\n",
    "    \n",
    "dic_Series2= {}\n",
    "\n",
    "for i in lista_AOI:\n",
    "    df_roboczy = df_recepcjonisci[df_recepcjonisci[\"aoi_name\"] == i]\n",
    "    series = df_roboczy['aoi_fixation_first_fixation_average_duration_ms'].dropna()  #WYRZUCIĆ NAN!!!!!!\n",
    "    dic_Series2[i] = list(series)"
   ]
  },
  {
   "cell_type": "code",
   "execution_count": 20,
   "id": "3f9662ee",
   "metadata": {
    "jupyter": {
     "source_hidden": true
    }
   },
   "outputs": [
    {
     "data": {
      "image/png": "[encoded data removed]",
      "text/plain": [
       "<Figure size 1440x360 with 2 Axes>"
      ]
     },
     "metadata": {},
     "output_type": "display_data"
    }
   ],
   "source": [
    "fig, (ax1, ax2) = plt.subplots(nrows=1, ncols=2, figsize=(20, 5))\n",
    "\n",
    "# rectangular box plot\n",
    "bplot1 = ax1.boxplot(dic_Series1.values(),\n",
    "                     vert=True,  # vertical box alignment\n",
    "                     patch_artist=True,  # fill with color\n",
    "                     labels = dic_Series2.keys())  # will be used to label x-ticks\n",
    "ax1.set_title('Programiści: jaki czas trwania pierszej fiksacji dla każdego AOI')\n",
    "ax1.set(ylim=(0, 1500))\n",
    "\n",
    "# notch shape box plot\n",
    "bplot2 = ax2.boxplot(dic_Series2.values(),\n",
    "                     vert=True,  # vertical box alignment\n",
    "                     patch_artist=True,  # fill with color\n",
    "                     labels = dic_Series2.keys())  # will be used to label x-ticks\n",
    "ax2.set_title('Recepcjoniści: jaki czas trwania pierszej fiksacji dla każdego AOI')\n",
    "ax2.set(ylim=(0, 1500))\n",
    "\n",
    "# fill with colors\n",
    "colors = ['pink', 'lightblue', 'lightgreen', 'gainsboro']\n",
    "for bplot in (bplot1, bplot2):\n",
    "    for patch, color in zip(bplot['boxes'], colors):\n",
    "        patch.set_facecolor(color)\n",
    "\n",
    "# adding horizontal grid lines\n",
    "for ax in [ax1, ax2]:\n",
    "    ax.yaxis.grid(True)\n",
    "    ax.set_xlabel('Lista AOI')\n",
    "    ax.set_ylabel('Czas trwania pierszej fiksacji dla każdego AOI [ms]')\n",
    "\n",
    "plt.show()"
   ]
  },
  {
   "cell_type": "markdown",
   "id": "6374e682",
   "metadata": {},
   "source": [
    "HIPOTEZY:\n",
    "H1: W zależności od wymagań wiążących się z pracą na danym stanowisku rekruterzy zwracają uwagę na inne aspekty życiorysu. \n",
    "H2: Podczas rekrutacji na stanowisko programisty/ki, rekruterzy najdłużej skupiają uwagę na obszarach wykształcenia oraz doświadczenia. \n",
    "H3: Podczas rekrutacji na stanowisko recepcjonisty/ki, rekruterzy najdłużej skupiają uwagę na obszarach kompetencji miękkich, zainteresowań oraz zdjęciu."
   ]
  },
  {
   "cell_type": "code",
   "execution_count": 21,
   "id": "449ef488",
   "metadata": {
    "jupyter": {
     "source_hidden": true
    }
   },
   "outputs": [],
   "source": [
    "import scipy.stats as sp\n",
    "from scipy import stats"
   ]
  },
  {
   "cell_type": "markdown",
   "id": "5fa19330",
   "metadata": {},
   "source": [
    "1) Hipoteza H2:"
   ]
  },
  {
   "cell_type": "code",
   "execution_count": 22,
   "id": "ef0c69f3",
   "metadata": {
    "jupyter": {
     "source_hidden": true
    }
   },
   "outputs": [],
   "source": [
    "p_values = np.zeros(shape=(4,4))\n",
    "\n",
    "count = 0\n",
    "for i in lista_AOI:    \n",
    "    lista_pomocnicza = []\n",
    "    for j in lista_AOI:\n",
    "        df_test1 = df_programisci[df_programisci[\"aoi_name\"] == i]\n",
    "        series_test1 = df_test1['aoi_fixation_average_duration_ms'].dropna()\n",
    "        df_test2= df_programisci[df_programisci[\"aoi_name\"] == j]\n",
    "        series_test2 = df_test2['aoi_fixation_average_duration_ms'].dropna()\n",
    "        lista_pomocnicza.append(round(stats.ttest_ind(series_test1, series_test2).pvalue, 4))\n",
    "    p_values[count] = lista_pomocnicza\n",
    "    count = count + 1\n",
    "\n",
    "\n"
   ]
  },
  {
   "cell_type": "code",
   "execution_count": 23,
   "id": "0abc4901",
   "metadata": {
    "jupyter": {
     "source_hidden": true
    }
   },
   "outputs": [
    {
     "data": {
      "text/plain": [
       "array([[1.    , 0.0284, 0.2082, 0.0064],\n",
       "       [0.0284, 1.    , 0.4772, 0.5355],\n",
       "       [0.2082, 0.4772, 1.    , 0.2372],\n",
       "       [0.0064, 0.5355, 0.2372, 1.    ]])"
      ]
     },
     "execution_count": 23,
     "metadata": {},
     "output_type": "execute_result"
    }
   ],
   "source": [
    "p_values"
   ]
  },
  {
   "cell_type": "code",
   "execution_count": 24,
   "id": "23387bbf",
   "metadata": {
    "jupyter": {
     "source_hidden": true
    }
   },
   "outputs": [
    {
     "name": "stdout",
     "output_type": "stream",
     "text": [
      "0 0 1.0\n",
      "0 1 0.0284\n",
      "0 2 0.2082\n",
      "0 3 0.0064\n",
      "1 0 0.0284\n",
      "1 1 1.0\n",
      "1 2 0.4772\n",
      "1 3 0.5355\n",
      "2 0 0.2082\n",
      "2 1 0.4772\n",
      "2 2 1.0\n",
      "2 3 0.2372\n",
      "3 0 0.0064\n",
      "3 1 0.5355\n",
      "3 2 0.2372\n",
      "3 3 1.0\n"
     ]
    },
    {
     "data": {
      "image/png": "[encoded data removed]",
      "text/plain": [
       "<Figure size 432x432 with 1 Axes>"
      ]
     },
     "metadata": {},
     "output_type": "display_data"
    }
   ],
   "source": [
    "fig, ax = plt.subplots(figsize=(6, 6))\n",
    "im = ax.imshow(p_values, cmap = \"Pastel2\")\n",
    "\n",
    "ax.set_xticks(np.arange(len(lista_AOI)), labels=lista_AOI)\n",
    "ax.set_yticks(np.arange(len(lista_AOI)), labels=lista_AOI)\n",
    "plt.setp(ax.get_xticklabels(), rotation=45, ha=\"right\",\n",
    "         rotation_mode=\"anchor\")\n",
    "\n",
    "for i in range(len(lista_AOI)):\n",
    "    for j in range(len(lista_AOI)):\n",
    "        print(i, j, p_values[i][j])\n",
    "        text = ax.text(j, i, p_values[i, j],\n",
    "                       ha=\"center\", va=\"center\", color=\"black\", size = 'x-large')\n",
    "\n",
    "ax.set_title('Matryca istotności dla wszystkich AOI dla średniego czasu fiksacji; programiści: \\n')\n",
    "fig.tight_layout()\n",
    "plt.show()"
   ]
  },
  {
   "cell_type": "markdown",
   "id": "ae5065b5",
   "metadata": {},
   "source": [
    "WNIOSKI:\n",
    "Jeśli chodzi o CV wybierane na stanowisko programisty, to czas patrzenia był isotanie dłuższy dla zainteresowań niż dla avatara oraz był istotnie dłuższy dla doświadczenia zawodowego niż dla avatara, więc tylko częściwo udało wykazać się hipoteze 2."
   ]
  },
  {
   "cell_type": "markdown",
   "id": "fbcec471",
   "metadata": {},
   "source": [
    "2) Hipoteza H3:"
   ]
  },
  {
   "cell_type": "code",
   "execution_count": 25,
   "id": "cb7725fa",
   "metadata": {
    "jupyter": {
     "source_hidden": true
    }
   },
   "outputs": [
    {
     "data": {
      "text/plain": [
       "array([[1.000e+00, 8.000e-04, 3.000e-04, 3.000e-04],\n",
       "       [8.000e-04, 1.000e+00, 5.786e-01, 2.749e-01],\n",
       "       [3.000e-04, 5.786e-01, 1.000e+00, 5.616e-01],\n",
       "       [3.000e-04, 2.749e-01, 5.616e-01, 1.000e+00]])"
      ]
     },
     "execution_count": 25,
     "metadata": {},
     "output_type": "execute_result"
    }
   ],
   "source": [
    "p_values = np.zeros(shape=(4,4))\n",
    "\n",
    "count = 0\n",
    "for i in lista_AOI:    \n",
    "    lista_pomocnicza = []\n",
    "    for j in lista_AOI:\n",
    "        df_test1 = df_recepcjonisci[df_recepcjonisci[\"aoi_name\"] == i]\n",
    "        series_test1 = df_test1['aoi_fixation_average_duration_ms'].dropna()\n",
    "        df_test2= df_recepcjonisci[df_recepcjonisci[\"aoi_name\"] == j]\n",
    "        series_test2 = df_test2['aoi_fixation_average_duration_ms'].dropna()\n",
    "        lista_pomocnicza.append(round(stats.ttest_ind(series_test1, series_test2).pvalue, 4))\n",
    "    p_values[count] = lista_pomocnicza\n",
    "    count = count + 1\n",
    "\n",
    "p_values"
   ]
  },
  {
   "cell_type": "code",
   "execution_count": 26,
   "id": "a7d35083",
   "metadata": {
    "jupyter": {
     "source_hidden": true
    }
   },
   "outputs": [
    {
     "name": "stdout",
     "output_type": "stream",
     "text": [
      "0 0 1.0\n",
      "0 1 0.0008\n",
      "0 2 0.0003\n",
      "0 3 0.0003\n",
      "1 0 0.0008\n",
      "1 1 1.0\n",
      "1 2 0.5786\n",
      "1 3 0.2749\n",
      "2 0 0.0003\n",
      "2 1 0.5786\n",
      "2 2 1.0\n",
      "2 3 0.5616\n",
      "3 0 0.0003\n",
      "3 1 0.2749\n",
      "3 2 0.5616\n",
      "3 3 1.0\n"
     ]
    },
    {
     "data": {
      "image/png": "[encoded data removed]",
      "text/plain": [
       "<Figure size 432x432 with 1 Axes>"
      ]
     },
     "metadata": {},
     "output_type": "display_data"
    }
   ],
   "source": [
    "fig, ax = plt.subplots(figsize=(6, 6))\n",
    "im = ax.imshow(p_values, cmap = \"Pastel1\")\n",
    "\n",
    "ax.set_xticks(np.arange(len(lista_AOI)), labels=lista_AOI)\n",
    "ax.set_yticks(np.arange(len(lista_AOI)), labels=lista_AOI)\n",
    "plt.setp(ax.get_xticklabels(), rotation=45, ha=\"right\",\n",
    "         rotation_mode=\"anchor\")\n",
    "\n",
    "for i in range(len(lista_AOI)):\n",
    "    for j in range(len(lista_AOI)):\n",
    "        print(i, j, p_values[i][j])\n",
    "        text = ax.text(j, i, p_values[i, j],\n",
    "                       ha=\"center\", va=\"center\", color=\"black\", size = 'x-large')\n",
    "\n",
    "ax.set_title('Matryca istotności dla wszystkich AOI dla średniego czasu fiksacji; recepcjoniści: \\n')\n",
    "fig.tight_layout()\n",
    "plt.show()"
   ]
  },
  {
   "cell_type": "markdown",
   "id": "62ed6816",
   "metadata": {},
   "source": [
    "WNIOSKI: Jeśli chodzi o CV wybierane na stanowisko recepcjonisty, to czas patrzenia był isotanie dłuższy dla zainteresowań niż dla avatara, był istotnie dłuższy dla doświadczenia zawodowego niż dla avatara oraz był istotnie dłuższy dla wykształcenia niż dla avatara, więc nie udało się wykazać hipotezy 3, przy czym ujawnia nam się inny efekt, niż pierwotnie założyliśmy."
   ]
  },
  {
   "cell_type": "markdown",
   "id": "926c0a98",
   "metadata": {},
   "source": [
    "3) H1:\n",
    "aby sprawdzić słuszność hipotezy 1, czyli hipotezy o ogólnych różnicach międzygrupowych, przeprowadzę analizy statystyczne dla par AOI z dwóch grup badawczych, w zależnosci od długości pierwszej fiksacji oraz czasu kiedy ona nastąpiła"
   ]
  },
  {
   "cell_type": "code",
   "execution_count": 27,
   "id": "40541b02",
   "metadata": {
    "jupyter": {
     "source_hidden": true
    }
   },
   "outputs": [],
   "source": [
    "lista_column = [\"aoi_fixation_average_duration_ms\", \"aoi_fixation_total_count\", \"aoi_fixation_ttff_ms\", \"aoi_fixation_first_fixation_average_duration_ms\"]\n",
    "\n",
    "p_values_h1 = np.zeros(shape=(4,4))\n",
    "\n",
    "count = 0\n",
    "for i in lista_AOI:    \n",
    "    lista_pomocnicza = []\n",
    "    for j in lista_column:\n",
    "        df_test1 = df_programisci[df_programisci[\"aoi_name\"] == i]\n",
    "        series_test1 = df_test1[j].dropna()\n",
    "        df_test2= df_recepcjonisci[df_recepcjonisci[\"aoi_name\"] == i]\n",
    "        series_test2 = df_test2[j].dropna()\n",
    "        lista_pomocnicza.append(round(stats.ttest_ind(series_test1, series_test2).pvalue, 4))\n",
    "    p_values_h1[count] = lista_pomocnicza\n",
    "    count = count + 1"
   ]
  },
  {
   "cell_type": "code",
   "execution_count": 28,
   "id": "362725dd",
   "metadata": {
    "jupyter": {
     "source_hidden": true
    }
   },
   "outputs": [
    {
     "data": {
      "text/plain": [
       "array([[1.960e-02, 5.600e-03, 8.461e-01, 7.658e-01],\n",
       "       [4.162e-01, 1.760e-02, 4.440e-02, 5.429e-01],\n",
       "       [6.168e-01, 0.000e+00, 6.000e-04, 2.059e-01],\n",
       "       [8.420e-01, 0.000e+00, 1.000e-04, 9.645e-01]])"
      ]
     },
     "execution_count": 28,
     "metadata": {},
     "output_type": "execute_result"
    }
   ],
   "source": [
    "p_values_h1"
   ]
  },
  {
   "cell_type": "code",
   "execution_count": 29,
   "id": "b7f06f32",
   "metadata": {
    "jupyter": {
     "source_hidden": true
    }
   },
   "outputs": [
    {
     "data": {
      "image/png": "[encoded data removed]",
      "text/plain": [
       "<Figure size 648x648 with 1 Axes>"
      ]
     },
     "metadata": {},
     "output_type": "display_data"
    }
   ],
   "source": [
    "fig1, ax1 = plt.subplots(figsize = (9,9))\n",
    "im = ax1.imshow(p_values_h1, cmap = \"tab20c\")\n",
    "\n",
    "\n",
    "\n",
    "\n",
    "ax1.set_xticks(np.arange(len(lista_AOI)), labels = lista_AOI)\n",
    "ax1.set_yticks(np.arange(len(lista_column)), labels=lista_column)\n",
    "\n",
    "plt.setp(ax1.get_xticklabels(), rotation=45, ha=\"right\",\n",
    "         rotation_mode=\"anchor\")\n",
    "\n",
    "for i in range(len(lista_AOI)):\n",
    "    for j in range(len(lista_column)):\n",
    "        text = ax1.text(j, i, p_values_h1[i, j],\n",
    "                       ha=\"center\", va=\"center\", color=\"black\", size = 'x-large')\n",
    "\n",
    "ax1.set_title(\"Matryca istotności dla wszystkich par AOI dla wszystkich zmiennych (nałożone na siebie macierze dla progmiastów i recepcjonistów): \\n\")\n",
    "fig1.tight_layout()\n",
    "plt.show()"
   ]
  },
  {
   "cell_type": "markdown",
   "id": "70c06d82",
   "metadata": {},
   "source": [
    "WNIOSKI: Jeśli chodzi o porównania międzygrupowe (programiści vs. recepcjoniści), to udało nam się znaleźć wiele statystycznie istotnych zależności:\n",
    "    - zwracanie uwagi na doświadczenie zawodowe istotnie różniło się we wszystkich wskaźnikach zainteresowania \n",
    "    - zwracanie uwagi na wykształcenie istotnie statystycznie tóżniło się dla ilości spojrzeń, czasu i długości pierwszej fiksacji\n",
    "    - zwracanie uwagi na avatar było istotnie różnie jedyne przy średnim czasie trwania fiksacji między grupami (na rzecz progrtamistów)\n",
    "Tymsamym udało nam się potwierdzić hipoteze mówiącą o kierowaniu się rożnymi kryteriami rpzy wyborze osoby na odpowiednie stanowisko."
   ]
  },
  {
   "cell_type": "code",
   "execution_count": null,
   "id": "d2227733",
   "metadata": {
    "jupyter": {
     "source_hidden": true
    }
   },
   "outputs": [],
   "source": []
  }
 ],
 "metadata": {
  "kernelspec": {
   "display_name": "Python 3 (Spyder)",
   "language": "python3",
   "name": "python3"
  },
  "language_info": {
   "codemirror_mode": {
    "name": "ipython",
    "version": 3
   },
   "file_extension": ".py",
   "mimetype": "text/x-python",
   "name": "python",
   "nbconvert_exporter": "python",
   "pygments_lexer": "ipython3",
   "version": "3.9.7"
  }
 },
 "nbformat": 4,
 "nbformat_minor": 5
}
